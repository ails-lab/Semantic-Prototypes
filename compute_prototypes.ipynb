{
 "cells": [
  {
   "cell_type": "code",
   "execution_count": 1,
   "id": "1d687b13-e10a-4209-8822-db13186bba74",
   "metadata": {},
   "outputs": [],
   "source": [
    "import pickle\n",
    "from itertools import groupby\n",
    "import os\n",
    "\n",
    "from tqdm.notebook import tqdm\n",
    "from skimage import io\n",
    "\n",
    "from parse_dataset import CUB\n",
    "from utils import distance_between_samples"
   ]
  },
  {
   "cell_type": "markdown",
   "id": "54d1e938-6a74-4d29-b2c2-3a6bf68f25e4",
   "metadata": {},
   "source": [
    "## CUB"
   ]
  },
  {
   "cell_type": "code",
   "execution_count": 2,
   "id": "a2655b3e-6286-4eab-8b18-3aea0c98d0dc",
   "metadata": {},
   "outputs": [],
   "source": [
    "def beautify_attributes(attribute_list):\n",
    "    attribute_list = [att.split('::') for att in attribute_list]\n",
    "    primary_colors = []\n",
    "    color_attributes = []\n",
    "    shape_attributes = []\n",
    "    pattern_attributes = []\n",
    "    other_attributes = []\n",
    "    for property, value in attribute_list:\n",
    "        value = value.replace('-wings', '')\n",
    "        value = value.replace('_tail', '')\n",
    "        if property.endswith('primary_color'):\n",
    "            primary_colors.append(value)\n",
    "        elif property.endswith('color'):\n",
    "            color_attributes.append([' '.join(property.split('_')[1:-1]),\n",
    "                                     ' '.join(value.split('_'))])\n",
    "        elif property != 'has_shape' and property.endswith('shape'):\n",
    "            shape_attributes.append([' '.join(property.split('_')[1:-1]),\n",
    "                                     ' '.join(value.split('_'))])\n",
    "        elif property.endswith('pattern'):\n",
    "            pattern_attributes.append([' '.join(property.split('_')[1:-1]),\n",
    "                                       ' '.join(value.split('_'))])\n",
    "        else:\n",
    "            other_attributes.append([' '.join(property.split('_')[1:]),\n",
    "                                     value])\n",
    "    beautified_attributes = []\n",
    "\n",
    "    if primary_colors:\n",
    "        s = 'The bird is primarily {}{}.'\n",
    "        arg1 = ', '.join(primary_colors[:-1])\n",
    "        arg2 = (primary_colors[0] if len(primary_colors) == 1\n",
    "                else ' and {}'.format(primary_colors[-1]))\n",
    "        beautified_attributes.append(s.format(arg1, arg2))\n",
    "    \n",
    "    for k, g in groupby(sorted(color_attributes, key=lambda x: x[1]), key=lambda x: x[1]):\n",
    "        parts = [x[0] + ('s' if x[0] in ['wing', 'eye', 'leg'] else '')\n",
    "                 for x in g]\n",
    "        if 'primary' in parts:\n",
    "            beautified_attributes.append('The bird is primarily {}.'.format(k))\n",
    "            parts = [x for x in parts if x != 'primary']\n",
    "        if not parts:\n",
    "            break\n",
    "        s = 'The bird has {}{} {}{}.'\n",
    "        arg1 = ''\n",
    "        if (not parts[0] in ['wings', 'eyes', 'legs', 'underparts', 'upperparts']):\n",
    "            if k[0] in ('a', 'e', 'i', 'o', 'u'):\n",
    "                arg1 = 'an '\n",
    "            else:\n",
    "                arg1 = 'a '\n",
    "        arg2 = k\n",
    "        arg3 = ', '.join(parts[:-1])\n",
    "        arg4 = parts[0] if len(parts) == 1 else ' and {}'.format(parts[-1])\n",
    "        beautified_attributes.append(s.format(arg1, arg2, arg3, arg4))\n",
    "\n",
    "    for k, g in groupby(sorted(pattern_attributes, key=lambda x: x[1]), key=lambda x: x[1]):\n",
    "        parts = [x[0] + ('s' if x[0] == 'wing' else '')\n",
    "                 for x in g]\n",
    "        s = 'The bird has {} {} pattern on its {}{}.'\n",
    "        arg1 = 'a'\n",
    "        if k[0] in ('a', 'e', 'i', 'o'):\n",
    "            arg1 = 'an'\n",
    "        arg2 = k\n",
    "        arg3 = ', '.join(parts[:-1])\n",
    "        arg4 = parts[0] if len(parts) == 1 else ' and {}'.format(parts[-1])\n",
    "        beautified_attributes.append(s.format(arg1, arg2, arg3, arg4))\n",
    "\n",
    "    for property, value in other_attributes:\n",
    "        if property == 'shape':\n",
    "            if value == 'chicken-like-marsh':\n",
    "                beautified_attributes.append(\n",
    "                    'The bird is shaped like a marsh chicken.'\n",
    "                )\n",
    "            else:\n",
    "                value = value[:-5]\n",
    "                if value in ['long-legged', 'perching', 'tree-clinging', 'upright-perching_water']:\n",
    "                    value = value.replace('_', ' ')\n",
    "                    beautified_attributes.append(\n",
    "                        'The bird is shaped like a {} bird.'.format(value)\n",
    "                    )\n",
    "                else:\n",
    "                    beautified_attributes.append(\n",
    "                        'The bird is shaped like a{} {}.'.format(\n",
    "                            'n' if value[0] in ('a', 'e', 'i', 'o', 'u') else '',\n",
    "                            value)\n",
    "                    )\n",
    "        elif property == 'bill length':\n",
    "            if value == 'about_the_same_as_head':\n",
    "                beautified_attributes.append(\n",
    "                    'The bird\\'s bill is about as long as its head.'\n",
    "                )\n",
    "            else:\n",
    "                beautified_attributes.append(\n",
    "                    'The bird\\'s bill is {} its head.'.format(' '.join(value.split('_')[:-1]))\n",
    "                )\n",
    "        elif property == 'size':\n",
    "            value = value.split('_')\n",
    "            beautified_attributes.append(\n",
    "                'The bird has a {} size {}.'.format(\n",
    "                    ' '.join(value[:-4]),\n",
    "                    ' '.join(value[-4:])\n",
    "                )\n",
    "            )\n",
    "        else:\n",
    "            print(property)\n",
    "            raise\n",
    "\n",
    "    beautified_shape_attributes = []\n",
    "    for property, value in shape_attributes:\n",
    "        s = '{}{} {}-shape'\n",
    "        arg1 = 'a '\n",
    "        if value[0] in ('a', 'e', 'i', 'o', 'u'):\n",
    "            arg1 = 'an '\n",
    "        arg2 = value\n",
    "        arg3 = property\n",
    "        beautified_shape_attributes.append(s.format(arg1, arg2, arg3))\n",
    "    if beautified_shape_attributes:\n",
    "        arg1 = ', '.join(beautified_shape_attributes[:-1])\n",
    "        arg2 = (beautified_shape_attributes[0] if len(beautified_shape_attributes) == 1\n",
    "                else ' and {}'.format(beautified_shape_attributes[-1]))\n",
    "        beautified_attributes.append(\n",
    "            'The bird has {}{}.'.format(arg1, arg2)\n",
    "        )\n",
    "    \n",
    "    return beautified_attributes"
   ]
  },
  {
   "cell_type": "code",
   "execution_count": 3,
   "id": "fb10857d-f03c-40ca-8f0a-938619044bc1",
   "metadata": {},
   "outputs": [],
   "source": [
    "def read_cropped_sample(dataset, image_id):\n",
    "    image_name = dataset.image_id_to_image_name[image_id]\n",
    "    image_path = os.path.join(cropped_dataset_path, image_name)\n",
    "    image_path = image_path.replace(\".jpg\", \".JPEG\")\n",
    "    image = io.imread(image_path)\n",
    "    return image"
   ]
  },
  {
   "cell_type": "code",
   "execution_count": 4,
   "id": "38647cfa-f0bb-4b51-9fea-5bb4c18ad6e8",
   "metadata": {},
   "outputs": [],
   "source": [
    "def find_prototype(dataset, ccd, cover_set):\n",
    "    ccd = list(ccd)[0]\n",
    "    costs = []\n",
    "    for image_id in cover_set:\n",
    "        image_annotations = set(dataset.image_id_to_annotations[image_id])\n",
    "        cost, edits = distance_between_samples(ccd, image_annotations, True, False)        \n",
    "        costs.append([image_id, cost, edits])\n",
    "    return costs"
   ]
  },
  {
   "cell_type": "code",
   "execution_count": 5,
   "id": "edd41b2f-9e42-4869-94a3-a33f779d4fd6",
   "metadata": {},
   "outputs": [],
   "source": [
    "def find_costs(ccds):\n",
    "    all_costs = []\n",
    "    for ccd in ccds:\n",
    "        cover_set = [image_id for image_id in dataset.image_id_to_annotations\n",
    "                     if dataset.image_id_to_image_name[image_id] in ccd['cluster']]\n",
    "        costs = find_prototype(dataset, ccd['description'], cover_set)\n",
    "        costs.sort(key=lambda x: x[1])\n",
    "        all_costs += [costs[0:3]]\n",
    "    return all_costs"
   ]
  },
  {
   "cell_type": "code",
   "execution_count": 6,
   "id": "a5c9976f-bd0e-4f6e-a19d-460168d7765b",
   "metadata": {},
   "outputs": [],
   "source": [
    "cub_dir = '../CUB/CUB_200_2011/CUB_200_2011/'\n",
    "cropped_dataset_path = \"CUB_200_2011/datasets/cub200_cropped/train_cropped\"\n",
    "ccds_path = os.path.join('results', 'CUB_ccds.pickle')\n",
    "\n",
    "dataset = CUB(cub_dir)"
   ]
  },
  {
   "cell_type": "code",
   "execution_count": 7,
   "id": "54826f47-dd2a-41c3-bb62-070bed993043",
   "metadata": {},
   "outputs": [],
   "source": [
    "with open(ccds_path, 'rb') as fp:\n",
    "    ccds = pickle.load(fp)"
   ]
  },
  {
   "cell_type": "code",
   "execution_count": 8,
   "id": "e1664188-b129-4db4-83ad-5ab67b58a341",
   "metadata": {},
   "outputs": [
    {
     "data": {
      "application/vnd.jupyter.widget-view+json": {
       "model_id": "f12c3961b5c74e9aa3c0ad0a52b649f5",
       "version_major": 2,
       "version_minor": 0
      },
      "text/plain": [
       "  0%|          | 0/4 [00:00<?, ?it/s]"
      ]
     },
     "metadata": {},
     "output_type": "display_data"
    }
   ],
   "source": [
    "prototypical_instances = {}\n",
    "\n",
    "for class_pair in tqdm(ccds):\n",
    "    prototypical_instances[class_pair] = {}\n",
    "    for cl in class_pair:\n",
    "        cl_ccds = ccds[class_pair][cl]\n",
    "        all_costs = find_costs(cl_ccds)\n",
    "        filtered_costs = []\n",
    "        for costs in all_costs:\n",
    "            fc = []\n",
    "            for cost in costs:\n",
    "                try:\n",
    "                    read_cropped_sample(dataset, cost[0])\n",
    "                    fc.append(cost)\n",
    "                except Exception as e:\n",
    "                    continue\n",
    "            if fc:\n",
    "                filtered_costs.append(fc)\n",
    "            else:\n",
    "                filtered_costs.append(None)\n",
    "        cl_ccds = [[beautify_attributes(list(s)) for s in ccd['description']]\n",
    "                    for ccd in cl_ccds]\n",
    "        prototypical_instances[class_pair][cl] = [\n",
    "            (ccd[0], [(dataset.image_id_to_image_name[cost[0]], *cost) for cost in costs])\n",
    "            for ccd, costs in zip(cl_ccds, filtered_costs)\n",
    "            if costs is not None\n",
    "        ]"
   ]
  },
  {
   "cell_type": "code",
   "execution_count": 45,
   "id": "d1c8a0ab-fc79-4ddc-aaf4-5338239b9be0",
   "metadata": {},
   "outputs": [],
   "source": [
    "with open(os.path.join('results', 'CUB_prototypes.pickle'), 'wb') as fp:\n",
    "    pickle.dump(prototypical_instances, fp)"
   ]
  },
  {
   "cell_type": "code",
   "execution_count": null,
   "id": "6af251d3-5b69-4696-9f50-7fcc423e54ba",
   "metadata": {},
   "outputs": [],
   "source": []
  }
 ],
 "metadata": {
  "kernelspec": {
   "display_name": "kgrules-h",
   "language": "python",
   "name": "kgrules-h"
  },
  "language_info": {
   "codemirror_mode": {
    "name": "ipython",
    "version": 3
   },
   "file_extension": ".py",
   "mimetype": "text/x-python",
   "name": "python",
   "nbconvert_exporter": "python",
   "pygments_lexer": "ipython3",
   "version": "3.11.6"
  }
 },
 "nbformat": 4,
 "nbformat_minor": 5
}
